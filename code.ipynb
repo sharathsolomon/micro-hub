{
 "cells": [
  {
   "cell_type": "code",
   "execution_count": 4,
   "metadata": {},
   "outputs": [
    {
     "data": {
      "text/html": [
       "<div>\n",
       "<style scoped>\n",
       "    .dataframe tbody tr th:only-of-type {\n",
       "        vertical-align: middle;\n",
       "    }\n",
       "\n",
       "    .dataframe tbody tr th {\n",
       "        vertical-align: top;\n",
       "    }\n",
       "\n",
       "    .dataframe thead th {\n",
       "        text-align: right;\n",
       "    }\n",
       "</style>\n",
       "<table border=\"1\" class=\"dataframe\">\n",
       "  <thead>\n",
       "    <tr style=\"text-align: right;\">\n",
       "      <th></th>\n",
       "      <th>Unnamed: 0</th>\n",
       "      <th>Median house price</th>\n",
       "      <th>Westpac: 4 year forecast</th>\n",
       "      <th>Joe Bloggs: 2 year forecast</th>\n",
       "      <th>Harry Spent: 5 year forecast</th>\n",
       "    </tr>\n",
       "  </thead>\n",
       "  <tbody>\n",
       "    <tr>\n",
       "      <th>0</th>\n",
       "      <td>2011</td>\n",
       "      <td>340000</td>\n",
       "      <td>56%</td>\n",
       "      <td>23%</td>\n",
       "      <td>-20%</td>\n",
       "    </tr>\n",
       "    <tr>\n",
       "      <th>1</th>\n",
       "      <td>2012</td>\n",
       "      <td>370000</td>\n",
       "      <td>53%</td>\n",
       "      <td>34$</td>\n",
       "      <td>-80%</td>\n",
       "    </tr>\n",
       "    <tr>\n",
       "      <th>2</th>\n",
       "      <td>2013</td>\n",
       "      <td>350000</td>\n",
       "      <td>NaN</td>\n",
       "      <td>19%</td>\n",
       "      <td>-70%</td>\n",
       "    </tr>\n",
       "    <tr>\n",
       "      <th>3</th>\n",
       "      <td>2014</td>\n",
       "      <td>420000</td>\n",
       "      <td>13%</td>\n",
       "      <td>42%</td>\n",
       "      <td>-80%</td>\n",
       "    </tr>\n",
       "    <tr>\n",
       "      <th>4</th>\n",
       "      <td>2015</td>\n",
       "      <td>425000</td>\n",
       "      <td>33%</td>\n",
       "      <td>23%</td>\n",
       "      <td>-50%</td>\n",
       "    </tr>\n",
       "    <tr>\n",
       "      <th>5</th>\n",
       "      <td>2016</td>\n",
       "      <td>500000</td>\n",
       "      <td>-5%</td>\n",
       "      <td>15%</td>\n",
       "      <td>-90%</td>\n",
       "    </tr>\n",
       "    <tr>\n",
       "      <th>6</th>\n",
       "      <td>2017</td>\n",
       "      <td>520000</td>\n",
       "      <td>45%</td>\n",
       "      <td>1500%</td>\n",
       "      <td>-30%</td>\n",
       "    </tr>\n",
       "    <tr>\n",
       "      <th>7</th>\n",
       "      <td>2018</td>\n",
       "      <td>550000</td>\n",
       "      <td>34%</td>\n",
       "      <td>18%</td>\n",
       "      <td>NaN</td>\n",
       "    </tr>\n",
       "    <tr>\n",
       "      <th>8</th>\n",
       "      <td>2019</td>\n",
       "      <td>596000</td>\n",
       "      <td>34%</td>\n",
       "      <td>19%</td>\n",
       "      <td>-110%</td>\n",
       "    </tr>\n",
       "    <tr>\n",
       "      <th>9</th>\n",
       "      <td>2020</td>\n",
       "      <td>610000</td>\n",
       "      <td>20%</td>\n",
       "      <td>23%</td>\n",
       "      <td>-90%</td>\n",
       "    </tr>\n",
       "    <tr>\n",
       "      <th>10</th>\n",
       "      <td>2021</td>\n",
       "      <td>660000</td>\n",
       "      <td>-20%</td>\n",
       "      <td>13%</td>\n",
       "      <td>-60%</td>\n",
       "    </tr>\n",
       "    <tr>\n",
       "      <th>11</th>\n",
       "      <td>2022</td>\n",
       "      <td>720000</td>\n",
       "      <td>15%</td>\n",
       "      <td>8%</td>\n",
       "      <td>-69%</td>\n",
       "    </tr>\n",
       "    <tr>\n",
       "      <th>12</th>\n",
       "      <td>2023</td>\n",
       "      <td>73000</td>\n",
       "      <td>I5%</td>\n",
       "      <td>7%</td>\n",
       "      <td>-80%</td>\n",
       "    </tr>\n",
       "    <tr>\n",
       "      <th>13</th>\n",
       "      <td>2024</td>\n",
       "      <td>760O00</td>\n",
       "      <td>-10%</td>\n",
       "      <td>-2%</td>\n",
       "      <td>-80%</td>\n",
       "    </tr>\n",
       "  </tbody>\n",
       "</table>\n",
       "</div>"
      ],
      "text/plain": [
       "    Unnamed: 0 Median house price Westpac: 4 year forecast  \\\n",
       "0         2011             340000                      56%   \n",
       "1         2012             370000                      53%   \n",
       "2         2013             350000                      NaN   \n",
       "3         2014             420000                      13%   \n",
       "4         2015             425000                      33%   \n",
       "5         2016             500000                      -5%   \n",
       "6         2017             520000                      45%   \n",
       "7         2018             550000                      34%   \n",
       "8         2019             596000                      34%   \n",
       "9         2020             610000                      20%   \n",
       "10        2021             660000                     -20%   \n",
       "11        2022             720000                      15%   \n",
       "12        2023              73000                      I5%   \n",
       "13        2024             760O00                     -10%   \n",
       "\n",
       "   Joe Bloggs: 2 year forecast Harry Spent: 5 year forecast  \n",
       "0                          23%                         -20%  \n",
       "1                          34$                         -80%  \n",
       "2                          19%                         -70%  \n",
       "3                          42%                         -80%  \n",
       "4                          23%                         -50%  \n",
       "5                          15%                         -90%  \n",
       "6                        1500%                         -30%  \n",
       "7                          18%                          NaN  \n",
       "8                          19%                        -110%  \n",
       "9                          23%                         -90%  \n",
       "10                         13%                         -60%  \n",
       "11                          8%                         -69%  \n",
       "12                          7%                         -80%  \n",
       "13                         -2%                         -80%  "
      ]
     },
     "execution_count": 4,
     "metadata": {},
     "output_type": "execute_result"
    }
   ],
   "source": [
    "import pandas as pd\n",
    "\n",
    "df = pd.read_csv('forecast_history.csv')\n",
    "df\n"
   ]
  },
  {
   "cell_type": "code",
   "execution_count": 8,
   "metadata": {},
   "outputs": [
    {
     "name": "stdout",
     "output_type": "stream",
     "text": [
      "1\n",
      "0\n",
      "1\n"
     ]
    }
   ],
   "source": [
    "print(df['Westpac: 4 year forecast'].isna().sum())\n",
    "print(df['Joe Bloggs: 2 year forecast'].isna().sum())\n",
    "print(df['Harry Spent: 5 year forecast'].isna().sum())\n"
   ]
  },
  {
   "cell_type": "code",
   "execution_count": 37,
   "metadata": {},
   "outputs": [],
   "source": [
    "def preprocess(df,col):\n",
    "    val=[]\n",
    "    for i in range(len(df)):\n",
    "        try:\n",
    "            val.append(int(df[col].iloc[i][:-1]))\n",
    "        except:\n",
    "            pass\n",
    "    print(\"Min\",min(val))\n",
    "    print(\"Max\",max(val))\n",
    "    return val\n",
    "\n"
   ]
  },
  {
   "cell_type": "code",
   "execution_count": 39,
   "metadata": {},
   "outputs": [
    {
     "name": "stdout",
     "output_type": "stream",
     "text": [
      "Min -20\n",
      "Max 56\n",
      "Min -2\n",
      "Max 1500\n",
      "Min -110\n",
      "Max -20\n"
     ]
    }
   ],
   "source": [
    "val1 = preprocess(df, 'Westpac: 4 year forecast')\n",
    "val2 = preprocess(df, 'Joe Bloggs: 2 year forecast')\n",
    "val3 = preprocess(df, 'Harry Spent: 5 year forecast')"
   ]
  },
  {
   "cell_type": "code",
   "execution_count": 42,
   "metadata": {},
   "outputs": [
    {
     "name": "stderr",
     "output_type": "stream",
     "text": [
      "Fontconfig warning: ignoring UTF-8: not a valid region tag\n",
      "Matplotlib is building the font cache; this may take a moment.\n"
     ]
    }
   ],
   "source": [
    "import matplotlib.pyplot as plt\n"
   ]
  },
  {
   "cell_type": "code",
   "execution_count": 45,
   "metadata": {},
   "outputs": [],
   "source": [
    "import matplotlib.pyplot as plt\n",
    "\n",
    "def distribution(data):\n",
    "    # Plotting the histogram\n",
    "    plt.hist(data, bins=10, edgecolor='black')\n",
    "\n",
    "    # Adding labels and title\n",
    "    plt.xlabel('Value')\n",
    "    plt.ylabel('Frequency')\n",
    "    plt.title('Distribution of Integer Data')\n",
    "\n",
    "    # Display the plot\n",
    "    plt.show()"
   ]
  },
  {
   "cell_type": "code",
   "execution_count": 46,
   "metadata": {},
   "outputs": [
    {
     "data": {
      "image/png": "[encoded data removed]",
      "text/plain": [
       "<Figure size 640x480 with 1 Axes>"
      ]
     },
     "metadata": {},
     "output_type": "display_data"
    }
   ],
   "source": [
    "distribution(val1)"
   ]
  },
  {
   "cell_type": "code",
   "execution_count": 47,
   "metadata": {},
   "outputs": [
    {
     "data": {
      "image/png": "[encoded data removed]",
      "text/plain": [
       "<Figure size 640x480 with 1 Axes>"
      ]
     },
     "metadata": {},
     "output_type": "display_data"
    }
   ],
   "source": [
    "distribution(val2)"
   ]
  },
  {
   "cell_type": "code",
   "execution_count": 48,
   "metadata": {},
   "outputs": [
    {
     "data": {
      "image/png": "[encoded data removed]",
      "text/plain": [
       "<Figure size 640x480 with 1 Axes>"
      ]
     },
     "metadata": {},
     "output_type": "display_data"
    }
   ],
   "source": [
    "distribution(val3)"
   ]
  }
 ],
 "metadata": {
  "kernelspec": {
   "display_name": "Python 3",
   "language": "python",
   "name": "python3"
  },
  "language_info": {
   "codemirror_mode": {
    "name": "ipython",
    "version": 3
   },
   "file_extension": ".py",
   "mimetype": "text/x-python",
   "name": "python",
   "nbconvert_exporter": "python",
   "pygments_lexer": "ipython3",
   "version": "3.9.6"
  }
 },
 "nbformat": 4,
 "nbformat_minor": 2
}
